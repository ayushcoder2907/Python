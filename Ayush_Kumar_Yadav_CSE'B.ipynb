{
  "nbformat": 4,
  "nbformat_minor": 0,
  "metadata": {
    "colab": {
      "provenance": []
    },
    "kernelspec": {
      "name": "python3",
      "display_name": "Python 3"
    },
    "language_info": {
      "name": "python"
    }
  },
  "cells": [
    {
      "cell_type": "code",
      "execution_count": null,
      "metadata": {
        "colab": {
          "base_uri": "https://localhost:8080/"
        },
        "id": "ywfbsXG3-ds7",
        "outputId": "9cc0c1d3-bf9e-4bab-e55f-9a6cd04f15a5"
      },
      "outputs": [
        {
          "output_type": "stream",
          "name": "stdout",
          "text": [
            "Enter Cost of 1st item52\n",
            "Enter Cost of 2nd item63\n",
            "Enter Cost of 3rd item92\n",
            "Final Price:186.3\n"
          ]
        }
      ],
      "source": [
        "cost1=int(input(\"Enter Cost of 1st item\"))\n",
        "cost2=int(input(\"Enter Cost of 2nd item\"))\n",
        "cost3=int(input(\"Enter Cost of 3rd item\"))\n",
        "sum=cost1+cost2+cost3\n",
        "discounted_sum=0.9*sum\n",
        "if sum<=50:\n",
        "  print(f\"Final Price:{sum}\")\n",
        "else:\n",
        "  print(f\"Final Price:{discounted_sum}\")"
      ]
    }
  ]
}